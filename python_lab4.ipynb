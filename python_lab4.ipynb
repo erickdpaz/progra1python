{
 "cells": [
  {
   "cell_type": "markdown",
   "metadata": {},
   "source": [
    "![Image of Yaktocat](https://www.mesoamericana.edu.gt/wp-content/uploads/2019/01/logo-meso-png.png)\n",
    "# Programación I\n",
    "## Laboratorio 4 Python1\n",
    "**Instrucciones**: Ejecute cada uno de los siguientes ejemplos y realice los ejercicios indicados"
   ]
  },
  {
   "cell_type": "markdown",
   "metadata": {},
   "source": [
    "# Estructuras de Repetición"
   ]
  },
  {
   "cell_type": "markdown",
   "metadata": {
    "tags": []
   },
   "source": [
    "En python existen dos estructuras de repetición:  for y while.  A diferencia de los leguajes C y C++ (incluso java) en python *no existe la instruccion do-while* ya que este ultimo ciclo se puede construir con la estructura while."
   ]
  },
  {
   "cell_type": "markdown",
   "metadata": {},
   "source": [
    "## Ciclo for"
   ]
  },
  {
   "cell_type": "markdown",
   "metadata": {},
   "source": [
    "En python el ciclo for tiene una estructura diferente ya que se requiere el uso de una función llamada **range** que permite generar los numeros para en contador.  Observar que despues de la función indicada se escribe : y todo el bloque de código debe indentarse de la misma manera que con una estructura if."
   ]
  },
  {
   "cell_type": "markdown",
   "metadata": {},
   "source": [
    "Imprimir los numeros de 0 a 5 por medio de un ciclo for"
   ]
  },
  {
   "cell_type": "code",
   "execution_count": null,
   "metadata": {},
   "outputs": [],
   "source": [
    "for i in range(0,6):\n",
    "    print(i)"
   ]
  },
  {
   "cell_type": "markdown",
   "metadata": {},
   "source": [
    "Como se puede observar en el anterior ejemplo, el contador i va adquiriendo los valores entre 0 y 5, no hasta 6 pudiesemos pensar, así entonces el límite se cuenta desde 0 hasta 6-1."
   ]
  },
  {
   "cell_type": "markdown",
   "metadata": {},
   "source": [
    "El limite de inicio es posible cambiarlo, de acuerdo a nuestras necesidades, en el siguiente ejemplo imprimimos en pantalla los numeros entre 2 y 6-1, es decir entre 2 y 5."
   ]
  },
  {
   "cell_type": "code",
   "execution_count": null,
   "metadata": {},
   "outputs": [],
   "source": [
    "for i in range(2,6):\n",
    "    print(i)"
   ]
  },
  {
   "cell_type": "markdown",
   "metadata": {},
   "source": [
    "Por defecto en los ejercicios anteriores el contador se incrementa en valores de 1, sin embargo es posible incrementarlo en el valor que se requiera, para ello se indica el incremento por medio de un tercer parámetro.  En el siguiente ejercicio imprimimos los numeros 0, 2, 4,6 8 y 10."
   ]
  },
  {
   "cell_type": "code",
   "execution_count": null,
   "metadata": {
    "tags": []
   },
   "outputs": [],
   "source": [
    "for i in range(0,11,2):\n",
    "    print(i)"
   ]
  },
  {
   "cell_type": "markdown",
   "metadata": {
    "tags": []
   },
   "source": [
    "Finamente es posible que asignar valores al contador en orden inverso, para ello cambiamos los valores limite y el incremento.  En el siguiente ejemplos imprimimos los valores de 5 a 1. Observe el valor del tercer parámetro."
   ]
  },
  {
   "cell_type": "code",
   "execution_count": null,
   "metadata": {},
   "outputs": [],
   "source": [
    "for i in range(5,0,-1):\n",
    "    print(i)"
   ]
  },
  {
   "cell_type": "markdown",
   "metadata": {
    "tags": []
   },
   "source": [
    "## Ejercicios:"
   ]
  },
  {
   "cell_type": "markdown",
   "metadata": {},
   "source": [
    "Imprima los numeros en el siguiente orden utilizando un ciclo for:  4,7,10,13,16,19"
   ]
  },
  {
   "cell_type": "code",
   "execution_count": null,
   "metadata": {},
   "outputs": [],
   "source": []
  },
  {
   "cell_type": "markdown",
   "metadata": {},
   "source": [
    "Utilizando un ciclo for solicitar al usuario un número entre 1 y 9 e imprimir la tabla de multiplicar correspondiente. Deberá asegurarse que el numero ingresado esté en el rango indicado."
   ]
  },
  {
   "cell_type": "code",
   "execution_count": null,
   "metadata": {},
   "outputs": [],
   "source": []
  },
  {
   "cell_type": "markdown",
   "metadata": {
    "tags": []
   },
   "source": [
    "---"
   ]
  },
  {
   "cell_type": "markdown",
   "metadata": {},
   "source": [
    "## Ciclo While"
   ]
  },
  {
   "cell_type": "markdown",
   "metadata": {},
   "source": [
    "En python un ciclo while tiene la misma estructura básica que un ciclo while en C o C++. Sin embargo la sintaxis varia de acuerdo a lo siguiente:\\n\n",
    "1. Despues de indicada la condicion se escribe :\n",
    "2. No es necesario que la condicion se escriba dentro de () pero puede utilizarse\n",
    "3. Se requiere indentación del codigo a ejecutar\n"
   ]
  },
  {
   "cell_type": "markdown",
   "metadata": {},
   "source": [
    "En el siguiente ejemplo imprimimos los valores entre 1 y 4.  Observe la forma en que se incrementa el contador, ya que en python no existe el operador -- o ++."
   ]
  },
  {
   "cell_type": "code",
   "execution_count": null,
   "metadata": {},
   "outputs": [],
   "source": [
    "i = 0\n",
    "while i<5:\n",
    "    print(i)\n",
    "    i= i + 1"
   ]
  },
  {
   "cell_type": "markdown",
   "metadata": {},
   "source": [
    "En python tambien es posible finalizar un ciclo con *break* o avanzar a la siguiente iteración con *continue*. \n",
    "En el siguiente ejemplo se finalizará el ciclo cuando el valor del contador sea 2."
   ]
  },
  {
   "cell_type": "code",
   "execution_count": 1,
   "metadata": {},
   "outputs": [
    {
     "name": "stdout",
     "output_type": "stream",
     "text": [
      "0\n",
      "1\n"
     ]
    }
   ],
   "source": [
    "i = 0\n",
    "while i<5:\n",
    "    if(i==2):\n",
    "        break    \n",
    "    print(i)\n",
    "    i= i + 1    "
   ]
  },
  {
   "cell_type": "markdown",
   "metadata": {},
   "source": [
    "En el siguiente ejemplo avanzamos a la siguiente iteración si el valor es 2. Es decir \"no saltamos\" la iteración pero no finalizamos el ciclo."
   ]
  },
  {
   "cell_type": "code",
   "execution_count": 2,
   "metadata": {},
   "outputs": [
    {
     "name": "stdout",
     "output_type": "stream",
     "text": [
      "0\n",
      "1\n"
     ]
    }
   ],
   "source": [
    "i = 0\n",
    "while i<5:\n",
    "    if(i==2):\n",
    "        c    \n",
    "    print(i)\n",
    "    i= i + 1"
   ]
  },
  {
   "cell_type": "markdown",
   "metadata": {},
   "source": [
    "## Ejercicios"
   ]
  },
  {
   "cell_type": "markdown",
   "metadata": {},
   "source": [
    "Utilizando el ciclo while realice un programa que calcule el promedio de la suma de los números impares entre 1 y 25.\n"
   ]
  },
  {
   "cell_type": "code",
   "execution_count": null,
   "metadata": {},
   "outputs": [],
   "source": []
  },
  {
   "cell_type": "markdown",
   "metadata": {},
   "source": [
    "Utilizando un ciclo while realice un programa que calcule la suma de la siguiente serie:\n",
    "    1^3 + 2^3 + 3^3…N\n",
    "donde N es un número que el usuario ingresa por el teclado. "
   ]
  },
  {
   "cell_type": "markdown",
   "metadata": {},
   "source": [
    " \n"
   ]
  },
  {
   "cell_type": "markdown",
   "metadata": {},
   "source": [
    "En el hospital de occidente ubicado en Quetzaltenango requiere automatizar el cálculo del Índice de Masa Corporal de sus pacientes, dicho índice permite establecer que tan obesa es una persona y por consiguiente la condición corporal. El proceso se realiza en grupos de 3 pacientes a la vez, por lo cual se se quiere de un programa escrito en lenguaje C o C++ que permita el ingreso del peso en kilogramos y la altura en metros de cada paciente, seguidamente calcule el índice de masa corporal lo muestre en pantalla e indique su condición corporal, esto para cada uno de los pacientes.  Una vez los datos de cada paciente se hayan presentado, al final, el programa debe mostrar el promedio del Índice de Masa Corporal de todos los pacientes evaluados. \n",
    "\n",
    "Considere la siguiente fórmula para el cálculo del indice de masa corporal:  IMC = peso/altura^2 \n",
    "\n",
    "Para establecer la condición corporal se debe utilizar la siguiente tabla: \n",
    "\n",
    "|Condición                 |IMC               |\n",
    "|--------------------------|------------------|\n",
    "|Peso inferior al normal   |Menos de 18.5     | \n",
    "|Normal                    |Entre 18.5 y 24.9 |\n",
    "|Peso superior al normal   |Entre 25.0 y 29.9 | \n",
    "|Obesidad                  |Más de 30         | \n",
    "\n"
   ]
  },
  {
   "cell_type": "code",
   "execution_count": null,
   "metadata": {},
   "outputs": [],
   "source": []
  }
 ],
 "metadata": {
  "kernelspec": {
   "display_name": "Python 3 (ipykernel)",
   "language": "python",
   "name": "python3"
  },
  "language_info": {
   "codemirror_mode": {
    "name": "ipython",
    "version": 3
   },
   "file_extension": ".py",
   "mimetype": "text/x-python",
   "name": "python",
   "nbconvert_exporter": "python",
   "pygments_lexer": "ipython3",
   "version": "3.7.12"
  }
 },
 "nbformat": 4,
 "nbformat_minor": 4
}
