{
 "cells": [
  {
   "cell_type": "markdown",
   "metadata": {},
   "source": [
    "![Image of Yaktocat](https://www.mesoamericana.edu.gt/wp-content/uploads/2019/01/logo-meso-png.png)\n",
    "# Programación I\n",
    "## Laboratorio 2 Python1\n",
    "**Instrucciones**: Ejecute cada uno de los siguientes ejemplos y realice los ejercicios indicados"
   ]
  },
  {
   "cell_type": "markdown",
   "metadata": {},
   "source": [
    "## Lectura de Datos"
   ]
  },
  {
   "cell_type": "markdown",
   "metadata": {},
   "source": [
    "Para leer datos en python3 se utiliza la función input() la cual devuelve un valor tipo *cadena* de manera que de acuerdo a nuestros requerimientos se debe convertir a otro tipo de dato si fuese necesario.  La función acepta una cadena como parametro la cual se mostrará en pantalla al momento de solicitar un dato."
   ]
  },
  {
   "cell_type": "markdown",
   "metadata": {},
   "source": [
    "Leemos un nombre y mostramos en pantalla."
   ]
  },
  {
   "cell_type": "code",
   "execution_count": null,
   "metadata": {},
   "outputs": [],
   "source": [
    "nombre = input(\"ingrese un nombre\")\n",
    "print(\"El nombre es:\", nombre)"
   ]
  },
  {
   "cell_type": "markdown",
   "metadata": {},
   "source": [
    "Solicitamos un valor y lo convertimos a numero entero, luego multiplicamos por 5 y mostramos en pantalla. Para ello el resultado que devuelve input() se envia a la función int() para convertir a entero."
   ]
  },
  {
   "cell_type": "code",
   "execution_count": null,
   "metadata": {},
   "outputs": [],
   "source": [
    "numero = int(input(\"ingrese numero entero: \"))\n",
    "total = numero * 5\n",
    "print(\"el total es: \", total)"
   ]
  },
  {
   "cell_type": "markdown",
   "metadata": {},
   "source": [
    "El mismo ejercicio anterior, para un numero flotante"
   ]
  },
  {
   "cell_type": "code",
   "execution_count": null,
   "metadata": {},
   "outputs": [],
   "source": [
    "numero = float(input(\"ingrese numero flotante:\"))\n",
    "total = numero * 5\n",
    "print(\"el total es: \", total)"
   ]
  },
  {
   "cell_type": "markdown",
   "metadata": {},
   "source": [
    "Internamente python sabe que tipo de dato almacena una variable, y podemos saber el tipo utilizando la función type\n"
   ]
  },
  {
   "cell_type": "markdown",
   "metadata": {},
   "source": [
    "---"
   ]
  },
  {
   "cell_type": "markdown",
   "metadata": {},
   "source": [
    "## Operadores"
   ]
  },
  {
   "cell_type": "markdown",
   "metadata": {},
   "source": [
    "Los operadores que se pueden utilizan en python son en su mayoria los mismos que se utilizan en otros lenguajes de programación, con excepcion de algunos.   \n",
    "En en siguiente enlace se encuentra un link con un listado completo: [Operadores](https://cheatography.com/nouha-thabet/cheat-sheets/python-operators-and-booleans/pdf/)\n",
    "Nos enfocaremos en los operadores distintos a los que hemos estudiado en el presente curso.\n",
    "\n",
    "\n"
   ]
  },
  {
   "cell_type": "markdown",
   "metadata": {},
   "source": [
    "Operador de Potencia consisten en dos asteriscos, que eleva una base a un exponente, en el siguiente ejemplo x al cuadrado y luego x al cubo"
   ]
  },
  {
   "cell_type": "code",
   "execution_count": null,
   "metadata": {},
   "outputs": [],
   "source": [
    "x = 25**2\n",
    "y = 25**3\n",
    "\n",
    "print(\"25 al cuadrado\", x)\n",
    "print(\"25 al cubo\", y)"
   ]
  },
  {
   "cell_type": "markdown",
   "metadata": {},
   "source": [
    "La division entera permite dividir dos numeros y devolver la parte entera de un número.  Por ejemplo si dividimos 11 por 3, el resultado es 3.66 si utilizamos el operador /, mientras que si utilizamos el operador // se devuelve solamente la parte entera 3, a la izquierda del punto decimal."
   ]
  },
  {
   "cell_type": "code",
   "execution_count": null,
   "metadata": {},
   "outputs": [],
   "source": [
    "x = 11\n",
    "y = 3\n",
    "total = x//y\n",
    "print(\"La division entera es: \",total)"
   ]
  },
  {
   "cell_type": "markdown",
   "metadata": {},
   "source": [
    "## Ejercicios"
   ]
  },
  {
   "cell_type": "markdown",
   "metadata": {},
   "source": [
    "Crear un algoritmo que permita ingresar el número de partidos ganados, perdidos y empatados por un equipo durante un campeonato de futbol y en base a estos datos permita calcular e imprimir el punteo total sabiendo que por cada partido ganado se obtiene 3 puntos, 1 por partido empatado y 0 puntos por cada partido perdido."
   ]
  },
  {
   "cell_type": "code",
   "execution_count": null,
   "metadata": {},
   "outputs": [],
   "source": []
  },
  {
   "cell_type": "markdown",
   "metadata": {},
   "source": [
    "Solicitar el usuario su altura en metros y peso en kilogramos, luego calcule el indice de masa corporan utilizando la ecuación:\n",
    "IMC =  masa/altura^2.\n",
    "y muestre el resultado en pantalla\n",
    "Nota: utilice el operador ** en visto en el presente notebook"
   ]
  },
  {
   "cell_type": "code",
   "execution_count": null,
   "metadata": {},
   "outputs": [],
   "source": []
  }
 ],
 "metadata": {
  "kernelspec": {
   "display_name": "Python 3 (ipykernel)",
   "language": "python",
   "name": "python3"
  },
  "language_info": {
   "codemirror_mode": {
    "name": "ipython",
    "version": 3
   },
   "file_extension": ".py",
   "mimetype": "text/x-python",
   "name": "python",
   "nbconvert_exporter": "python",
   "pygments_lexer": "ipython3",
   "version": "3.7.12"
  }
 },
 "nbformat": 4,
 "nbformat_minor": 4
}
