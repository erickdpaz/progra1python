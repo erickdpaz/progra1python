{
 "cells": [
  {
   "cell_type": "markdown",
   "metadata": {
    "tags": []
   },
   "source": [
    "![Image of Yaktocat](https://www.mesoamericana.edu.gt/wp-content/uploads/2019/01/logo-meso-png.png)\n",
    "# Programación I\n",
    "## Laboratorio 3 Python1\n",
    "**Instrucciones**: Ejecute cada uno de los siguientes ejemplos y realice los ejercicios indicados"
   ]
  },
  {
   "cell_type": "markdown",
   "metadata": {},
   "source": [
    "## Estructura de Selección IF"
   ]
  },
  {
   "cell_type": "markdown",
   "metadata": {},
   "source": [
    "El el lenguaje python la estructura de selección if tiene una estructura distinta en relación a los lenguajes C y C++ dado que no se utilizan los caracteres {  } para indicar el inicio y el fin de un bloque, más bien al finalizar la condición se escribe :  y luego se escriben las instrucciones que formarán parte del bloque de código con la misma indentación, es decir, con la misma separación desde el margen izquierdo.\n",
    "Finalmente no se necesita escribir () para definir la condición, ya que los parentesis son opcionales al inicio y al final."
   ]
  },
  {
   "cell_type": "markdown",
   "metadata": {},
   "source": [
    "Verificamos si una persona es mayor de edad, observe los espacios que existen desde el margen izquierdo hasta la función print()"
   ]
  },
  {
   "cell_type": "code",
   "execution_count": null,
   "metadata": {},
   "outputs": [],
   "source": [
    "edad = 25\n",
    "if edad >= 18:\n",
    "    print('Es mayor de edad')\n",
    "    print('Felicidades puede entrar a una discoteca si lo desea')"
   ]
  },
  {
   "cell_type": "markdown",
   "metadata": {},
   "source": [
    "Un error comun es no considerar la identación lo que normalmente conduce a errores."
   ]
  },
  {
   "cell_type": "code",
   "execution_count": null,
   "metadata": {},
   "outputs": [],
   "source": [
    "edad = 25\n",
    "if edad >= 18:\n",
    "print('Es mayor de edad')\n",
    "print('Felicidades puede entrar a una discoteca si lo desea')"
   ]
  },
  {
   "cell_type": "markdown",
   "metadata": {},
   "source": [
    "En el caso anterior solamente la segunda función print() se ejecuta dado que no es parte del bloque de código que si deberia ser la primera función print() que está justamente debajo de la instruccion if"
   ]
  },
  {
   "cell_type": "markdown",
   "metadata": {},
   "source": [
    "Tambien es posible utilizar las palabras else"
   ]
  },
  {
   "cell_type": "code",
   "execution_count": null,
   "metadata": {},
   "outputs": [],
   "source": [
    "edad = 25\n",
    "if edad >= 18:\n",
    "    print('Es mayor de edad')\n",
    "else:\n",
    "    print('Es menor de edad')"
   ]
  },
  {
   "cell_type": "markdown",
   "metadata": {},
   "source": [
    "Tambien puede  utilizarse la instruccion elif que es una contracción de else if, que conmunmente se utiliza en C o C++.  Ejecute el siguiente ejemplo, luego intente variar el valor de 50 para comprobar el funcionamiento de la estructura."
   ]
  },
  {
   "cell_type": "code",
   "execution_count": 6,
   "metadata": {},
   "outputs": [
    {
     "name": "stdout",
     "output_type": "stream",
     "text": [
      "Esta entre 25 y 50\n"
     ]
    }
   ],
   "source": [
    "x  = 50\n",
    "if x > 100:\n",
    "    print('Es mayor a 100')\n",
    "elif x >= 25 and x<=50 :\n",
    "    print('Esta entre 25 y 50')\n",
    "else:\n",
    "    print('Es menor de 25')    "
   ]
  },
  {
   "cell_type": "markdown",
   "metadata": {},
   "source": [
    "Observar que los operadores lógicos en python son distintos:\\\n",
    "**and**  equivalente a **&&** \\\n",
    "**or**   equivalente a **||** \\\n",
    "**not**  equivalente a **!** "
   ]
  },
  {
   "cell_type": "markdown",
   "metadata": {},
   "source": [
    "--"
   ]
  },
  {
   "cell_type": "markdown",
   "metadata": {},
   "source": [
    "## Ejercicios"
   ]
  },
  {
   "cell_type": "markdown",
   "metadata": {},
   "source": [
    "Realizar un programa que solicite la edad de una persona y muestre en pantalla si se encuentra en el grupo A, B o C para recibir la vacuna contra el COVID19.  Para el grupo A la edad es mayor o igual a 60 años, el grupo B está entre 40 y 59 años y el grupo C entre 18 y 39 años.  Si la persona es menor de edad se debe indicar que no aplica para vacuna."
   ]
  },
  {
   "cell_type": "code",
   "execution_count": null,
   "metadata": {},
   "outputs": [],
   "source": []
  },
  {
   "cell_type": "markdown",
   "metadata": {},
   "source": [
    "Realizar un programa que solicite al usuario  un mes del año, representado por un número, de manera que 1 = enero, 2= febrero, 3=marzo, etc.  Una vez obtenido el número debe mostrar en pantalla a qué trimestre del año pertenece."
   ]
  },
  {
   "cell_type": "code",
   "execution_count": null,
   "metadata": {},
   "outputs": [],
   "source": []
  },
  {
   "cell_type": "markdown",
   "metadata": {},
   "source": [
    "Realizar un programa que reciba un dia y un mes del año 2022, y después de ello muestre en pantalla el dia que corresponde del año entre 1 y 365.  \\\n",
    "Ejemplos:\\\n",
    "Si se ingresa 20 para el dia y 1 para el mes, en pantalla aparecerá  20 \\\n",
    "Si se ingresa 2 para el dia y 2 para el mes aparecerá en pantalla 33\n"
   ]
  },
  {
   "cell_type": "code",
   "execution_count": null,
   "metadata": {},
   "outputs": [],
   "source": []
  }
 ],
 "metadata": {
  "kernelspec": {
   "display_name": "Python 3 (ipykernel)",
   "language": "python",
   "name": "python3"
  },
  "language_info": {
   "codemirror_mode": {
    "name": "ipython",
    "version": 3
   },
   "file_extension": ".py",
   "mimetype": "text/x-python",
   "name": "python",
   "nbconvert_exporter": "python",
   "pygments_lexer": "ipython3",
   "version": "3.7.12"
  }
 },
 "nbformat": 4,
 "nbformat_minor": 4
}
